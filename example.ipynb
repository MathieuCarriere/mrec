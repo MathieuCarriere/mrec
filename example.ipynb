{
 "cells": [
  {
   "cell_type": "markdown",
   "metadata": {},
   "source": [
    "Import packages."
   ]
  },
  {
   "cell_type": "code",
   "execution_count": null,
   "metadata": {},
   "outputs": [],
   "source": [
    "%matplotlib notebook\n",
    "%load_ext autoreload\n",
    "%autoreload 2"
   ]
  },
  {
   "cell_type": "code",
   "execution_count": null,
   "metadata": {},
   "outputs": [],
   "source": [
    "import time\n",
    "import numpy                   as np\n",
    "import matplotlib.pyplot       as plt\n",
    "from sklearn.cluster           import KMeans\n",
    "from sklearn.metrics           import pairwise_distances\n",
    "from sklearn.preprocessing     import LabelEncoder\n",
    "from matplotlib                import cm\n",
    "from ot                        import sinkhorn as wasserstein\n",
    "from ot.gromov                 import entropic_gromov_wasserstein as gromov_wasserstein"
   ]
  },
  {
   "cell_type": "code",
   "execution_count": null,
   "metadata": {},
   "outputs": [],
   "source": [
    "from MREC         import *\n",
    "from quantization import *\n",
    "from matching     import *\n",
    "from scores       import *"
   ]
  },
  {
   "cell_type": "markdown",
   "metadata": {},
   "source": [
    "Dataset."
   ]
  },
  {
   "cell_type": "code",
   "execution_count": null,
   "metadata": {},
   "outputs": [],
   "source": [
    "n_pts_per_clus1, n_pts_per_clus2 = 100, 100\n",
    "X1 = np.concatenate([np.random.normal(loc=0.,  scale=1., size=n_pts_per_clus1)[:,np.newaxis],  \n",
    "                     np.random.normal(loc=0.,  scale=1., size=n_pts_per_clus1)[:,np.newaxis]], axis=1)\n",
    "Y1 = np.concatenate([np.random.normal(loc=0.,  scale=1., size=n_pts_per_clus1)[:,np.newaxis],  \n",
    "                     np.random.normal(loc=10., scale=1., size=n_pts_per_clus1)[:,np.newaxis]], axis=1)\n",
    "Z1 = np.concatenate([np.random.normal(loc=30., scale=1., size=n_pts_per_clus1)[:,np.newaxis],  \n",
    "                     np.random.normal(loc=0.,  scale=1., size=n_pts_per_clus1)[:,np.newaxis]], axis=1)\n",
    "X2 = np.concatenate([np.random.normal(loc=2.,  scale=1., size=n_pts_per_clus2)[:,np.newaxis],  \n",
    "                     np.random.normal(loc=-1.,  scale=1., size=n_pts_per_clus2)[:,np.newaxis]], axis=1)\n",
    "Y2 = np.concatenate([np.random.normal(loc=1.,  scale=1., size=n_pts_per_clus2)[:,np.newaxis],  \n",
    "                     np.random.normal(loc=12., scale=1., size=n_pts_per_clus2)[:,np.newaxis]], axis=1)\n",
    "Z2 = np.concatenate([np.random.normal(loc=28., scale=1., size=n_pts_per_clus2)[:,np.newaxis],  \n",
    "                     np.random.normal(loc=-2.,  scale=1., size=n_pts_per_clus2)[:,np.newaxis]], axis=1)\n",
    "X1, X2 = np.vstack([X1,Y1,Z1]), np.vstack([X2,Y2,Z2])\n",
    "lab1 = np.array(  [1 for _ in range(n_pts_per_clus1)] \n",
    "                + [2 for _ in range(n_pts_per_clus1)] \n",
    "                + [3 for _ in range(n_pts_per_clus1)])\n",
    "lab2 = np.array(  [1 for _ in range(n_pts_per_clus2)] \n",
    "                + [2 for _ in range(n_pts_per_clus2)] \n",
    "                + [3 for _ in range(n_pts_per_clus2)])"
   ]
  },
  {
   "cell_type": "code",
   "execution_count": null,
   "metadata": {},
   "outputs": [],
   "source": [
    "D1, D2 = pairwise_distances(X1), pairwise_distances(X2)\n",
    "D12 = pairwise_distances(X1, X2)"
   ]
  },
  {
   "cell_type": "code",
   "execution_count": null,
   "metadata": {},
   "outputs": [],
   "source": [
    "print(X1.shape, X2.shape, D1.shape, D2.shape, D12.shape)"
   ]
  },
  {
   "cell_type": "code",
   "execution_count": null,
   "metadata": {},
   "outputs": [],
   "source": [
    "plt.figure()\n",
    "labname1 = {1: 'Group 1 - Data set 1', 2: 'Group 2 - Data set 1', 3: 'Group 3 - Data set 1'}\n",
    "labname2 = {1: 'Group 1 - Data set 2', 2: 'Group 2 - Data set 2', 3: 'Group 3 - Data set 2'}\n",
    "clrmap_dicts = {1: cm.get_cmap('Greens'), 2: cm.get_cmap('Oranges')}\n",
    "clrscale = {1: 0.25, 2:0.5, 3:0.75}\n",
    "for i in [1,2,3]:\n",
    "    I1, I2 = np.argwhere(lab1==i).ravel(), np.argwhere(lab2==i).ravel()\n",
    "    plt.scatter(X1[I1,0], X1[I1,1], marker='.', s=30, alpha=.9, \n",
    "                label=labname1[i], color=clrmap_dicts[1](clrscale[i]))\n",
    "    plt.scatter(X2[I2,0], X2[I2,1], marker='+', s=30, alpha=.9, \n",
    "                label=labname2[i], color=clrmap_dicts[2](clrscale[i]))\n",
    "plt.legend()\n",
    "plt.grid()\n",
    "plt.show()"
   ]
  },
  {
   "cell_type": "markdown",
   "metadata": {},
   "source": [
    "Compute matching."
   ]
  },
  {
   "cell_type": "code",
   "execution_count": null,
   "metadata": {},
   "outputs": [],
   "source": [
    "start = time.time()\n",
    "gamma = wasserstein(np.ones([len(X1)])/len(X1), np.ones([len(X2)])/len(X2), D12, np.quantile(D12, .5))\n",
    "mappingFSW12 = np.argmax(gamma, axis=1)\n",
    "mappingFSW21 = np.argmax(gamma, axis=0)\n",
    "end = time.time()\n",
    "timeFSW = end-start"
   ]
  },
  {
   "cell_type": "code",
   "execution_count": null,
   "metadata": {},
   "outputs": [],
   "source": [
    "start = time.time()\n",
    "gamma = gromov_wasserstein(D1, D2, np.ones([len(D1)])/len(D1), np.ones([len(D2)])/len(D2), 'square_loss', 1e1)\n",
    "mappingFSGW12 = np.argmax(gamma, axis=1)\n",
    "mappingFSGW21 = np.argmax(gamma, axis=0)\n",
    "end = time.time()\n",
    "timeFSGW = end-start"
   ]
  },
  {
   "cell_type": "code",
   "execution_count": null,
   "metadata": {},
   "outputs": [],
   "source": [
    "matching         = SinkhornWasserstein\n",
    "matching_params  = SinkhornWassersteinMedianParameters\n",
    "quant            = KMeansQuantization\n",
    "quant_params     = QuantizationSizeMinParameters(20)\n",
    "\n",
    "start = time.time()\n",
    "mappingSW12 = MREC(X1=X1, X2=X2, X12=None, D1=None, D2=None, D1quant=None, D2quant=None,\n",
    "                   matching=matching, matching_params=matching_params,\n",
    "                   quantization1=quant, quantization_params1=quant_params,\n",
    "                   quantization2=quant, quantization_params2=quant_params,\n",
    "                   threshold=10, last_matching='match', impose_equal=True)\n",
    "mappingSW21 = MREC(X1=X2, X2=X1, X12=None, D1=None, D2=None, D1quant=None, D2quant=None,\n",
    "                   matching=matching, matching_params=matching_params,\n",
    "                   quantization1=quant, quantization_params1=quant_params,\n",
    "                   quantization2=quant, quantization_params2=quant_params,\n",
    "                   threshold=10, last_matching='match', impose_equal=True)\n",
    "end = time.time()\n",
    "timeSW = end-start"
   ]
  },
  {
   "cell_type": "code",
   "execution_count": null,
   "metadata": {},
   "outputs": [],
   "source": [
    "matching        = SinkhornGromovWasserstein\n",
    "matching_params = {'epsilon': 5*1e0, 'tol': 1e-9, 'max_iter': 1000, 'loss_fun': 'square_loss'}\n",
    "quant           = KMeansQuantization\n",
    "quant_params    = QuantizationSizeMinParameters(20)\n",
    "\n",
    "start = time.time()\n",
    "mappingSGW12 = MREC(X1=X1, X2=X2, X12=None, D1=D1, D2=D2, D1quant=D1, D2quant=D2,\n",
    "                    matching=matching, matching_params=matching_params,\n",
    "                    quantization1=quant, quantization_params1=quant_params,\n",
    "                    quantization2=quant, quantization_params2=quant_params,\n",
    "                    threshold=10, last_matching='match', impose_equal=True, mode='5')\n",
    "mappingSGW21 = MREC(X1=X2, X2=X1, X12=None, D1=D2, D2=D1, D1quant=D2, D2quant=D1,\n",
    "                    matching=matching, matching_params=matching_params,\n",
    "                    quantization1=quant, quantization_params1=quant_params,\n",
    "                    quantization2=quant, quantization_params2=quant_params,\n",
    "                    threshold=10, last_matching='match', impose_equal=True, mode='5')\n",
    "end = time.time()\n",
    "timeSGW = end-start"
   ]
  },
  {
   "cell_type": "code",
   "execution_count": null,
   "metadata": {
    "scrolled": true
   },
   "outputs": [],
   "source": [
    "matching        = NonConvexGromovWasserstein\n",
    "matching_params = {'num_iter':50, 'sigma_m_0':5., 'mu':10., 'method':'L-BFGS-B', 'map_init':None, 'verbose':False}\n",
    "quant           = KMeansQuantization\n",
    "quant_params    = QuantizationSizeMinParameters(20)\n",
    "\n",
    "start = time.time()\n",
    "mappingNCGW12 = MREC(X1=X1, X2=X2, X12=None, D1=D1, D2=D2, D1quant=D1, D2quant=D2,\n",
    "                     matching=matching, matching_params=matching_params,\n",
    "                     quantization1=quant, quantization_params1=quant_params,\n",
    "                     quantization2=quant, quantization_params2=quant_params,\n",
    "                     threshold=10, last_matching='constant', impose_equal=True, mode='5')\n",
    "mappingNCGW21 = MREC(X1=X2, X2=X1, X12=None, D1=D2, D2=D1, D1quant=D2, D2quant=D1,\n",
    "                     matching=matching, matching_params=matching_params,\n",
    "                     quantization1=quant, quantization_params1=quant_params,\n",
    "                     quantization2=quant, quantization_params2=quant_params,\n",
    "                     threshold=10, last_matching='constant', impose_equal=True, mode='5')\n",
    "end = time.time()\n",
    "timeNCGW = end-start"
   ]
  },
  {
   "cell_type": "code",
   "execution_count": null,
   "metadata": {},
   "outputs": [],
   "source": [
    "matching        = CPLEXConvexGromovWasserstein\n",
    "eng             = matlab.engine.start_matlab()\n",
    "matching_params = {'eng': eng, 'maxtime': 1000}\n",
    "quant           = KMeansQuantization\n",
    "quant_params    = {'n_clusters': 10}\n",
    "\n",
    "start = time.time()\n",
    "mappingCPLEXGW12 = MREC(X1=None, X2=None, X12=None, D1=D1, D2=D2, D1quant=D1, D2quant=D2,\n",
    "                        matching=matching, matching_params=matching_params,\n",
    "                        quantization1=quant, quantization_params1=quant_params,\n",
    "                        quantization2=quant, quantization_params2=quant_params,\n",
    "                        threshold=10, last_matching='constant', impose_equal=True)\n",
    "mappingCPLEXGW21 = MREC(X1=None, X2=None, X12=None, D1=D2, D2=D1, D1quant=D2, D2quant=D1,\n",
    "                        matching=matching, matching_params=matching_params,\n",
    "                        quantization1=quant, quantization_params1=quant_params,\n",
    "                        quantization2=quant, quantization_params2=quant_params,\n",
    "                        threshold=10, last_matching='constant', impose_equal=True)\n",
    "end = time.time()\n",
    "eng.quit()\n",
    "timeCPLEXGW = end-start"
   ]
  },
  {
   "cell_type": "code",
   "execution_count": null,
   "metadata": {
    "scrolled": false
   },
   "outputs": [],
   "source": [
    "for (mapping12, mapping21, t) in [\n",
    "                                  (mappingFSW12,     mappingFSW21,     timeFSW), \n",
    "                                  (mappingFSGW12,    mappingFSGW21,    timeFSGW), \n",
    "                                  (mappingSW12,      mappingSW21,      timeSW), \n",
    "                                  (mappingSGW12,     mappingSGW21,     timeSGW), \n",
    "                                  (mappingNCGW12,    mappingNCGW21,    timeNCGW), \n",
    "                                  #(mappingCPLEXGW12, mappingCPLEXGW21, timeCPLEXGW),\n",
    "                                 ]:\n",
    "    \n",
    "    XX1, XX2 = X2[mapping12,:], X1[mapping21,:]\n",
    "    integrated = np.vstack([0.5 * (X1 + XX1), 0.5 * (X2 + XX2)])\n",
    "    integrated_labs = np.concatenate([lab1,lab2])\n",
    "    \n",
    "    distortion12 = distortion_score(X1=X1, X2=X2, mapping=mapping12, computation_mode='3', metric='euclidean')\n",
    "    distortion21 = distortion_score(X1=X2, X2=X1, mapping=mapping21, computation_mode='3', metric='euclidean')\n",
    "    \n",
    "    quality12 = len(np.argwhere(np.array([lab1[i] == lab2[mapping12[i]] for i in range(len(X1))])))/len(X1)\n",
    "    quality21 = len(np.argwhere(np.array([lab2[i] == lab1[mapping21[i]] for i in range(len(X2))])))/len(X2)\n",
    "    print(t, quality12, quality21, distortion12, distortion21)\n",
    "    \n",
    "    plt.figure(figsize=(7,7))\n",
    "    plt.scatter(integrated[:len(X1),0], integrated[:len(X1),1])\n",
    "    plt.scatter(integrated[len(X1):,0], integrated[len(X1):,1])\n",
    "    plt.show()\n",
    "    \n",
    "    colors = LabelEncoder().fit_transform(integrated_labs)\n",
    "    plt.figure(figsize=(7,7))\n",
    "    plt.scatter(integrated[:,0], integrated[:,1], c=colors)\n",
    "    plt.show()\n",
    "    \n",
    "    list_kth = [5,10,15,20,25,30,35,40,45,50,55,60,65,70,75,80,85,90,95,150,200,250,300]\n",
    "    mixings = compute_mixings(integrated, len(X1), list_kth)\n",
    "    plt.figure(figsize=(7,7))\n",
    "    plt.boxplot(mixings, labels=[str(k) for k in list_kth], showfliers=True)\n",
    "    plt.show()\n"
   ]
  },
  {
   "cell_type": "code",
   "execution_count": null,
   "metadata": {},
   "outputs": [],
   "source": []
  }
 ],
 "metadata": {
  "kernelspec": {
   "display_name": "Python 3",
   "language": "python",
   "name": "python3"
  },
  "language_info": {
   "codemirror_mode": {
    "name": "ipython",
    "version": 3
   },
   "file_extension": ".py",
   "mimetype": "text/x-python",
   "name": "python",
   "nbconvert_exporter": "python",
   "pygments_lexer": "ipython3",
   "version": "3.9.5"
  },
  "toc": {
   "base_numbering": 1,
   "nav_menu": {},
   "number_sections": true,
   "sideBar": true,
   "skip_h1_title": false,
   "title_cell": "Table of Contents",
   "title_sidebar": "Contents",
   "toc_cell": false,
   "toc_position": {},
   "toc_section_display": true,
   "toc_window_display": false
  }
 },
 "nbformat": 4,
 "nbformat_minor": 2
}
