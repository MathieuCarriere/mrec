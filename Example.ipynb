{
 "cells": [
  {
   "cell_type": "markdown",
   "metadata": {},
   "source": [
    "Import packages."
   ]
  },
  {
   "cell_type": "code",
   "execution_count": null,
   "metadata": {},
   "outputs": [],
   "source": [
    "import time\n",
    "import numpy                   as np\n",
    "import matplotlib.pyplot       as plt\n",
    "from sklearn.cluster           import KMeans\n",
    "from matplotlib                import cm"
   ]
  },
  {
   "cell_type": "code",
   "execution_count": null,
   "metadata": {},
   "outputs": [],
   "source": [
    "from MREC import distortion_score, MREC"
   ]
  },
  {
   "cell_type": "markdown",
   "metadata": {},
   "source": [
    "Dataset."
   ]
  },
  {
   "cell_type": "code",
   "execution_count": null,
   "metadata": {},
   "outputs": [],
   "source": [
    "n_pts_per_clus = 2*10"
   ]
  },
  {
   "cell_type": "code",
   "execution_count": null,
   "metadata": {},
   "outputs": [],
   "source": [
    "X = np.concatenate([np.random.normal(loc=0.,  scale=1., size=n_pts_per_clus)[:,np.newaxis],  \n",
    "                    np.random.normal(loc=0.,  scale=1., size=n_pts_per_clus)[:,np.newaxis]], axis=1)\n",
    "Y = np.concatenate([np.random.normal(loc=0.,  scale=1., size=n_pts_per_clus)[:,np.newaxis],  \n",
    "                    np.random.normal(loc=10., scale=1., size=n_pts_per_clus)[:,np.newaxis]], axis=1)\n",
    "Z = np.concatenate([np.random.normal(loc=30., scale=1., size=n_pts_per_clus)[:,np.newaxis],  \n",
    "                    np.random.normal(loc=0.,  scale=1., size=n_pts_per_clus)[:,np.newaxis]], axis=1)"
   ]
  },
  {
   "cell_type": "code",
   "execution_count": null,
   "metadata": {},
   "outputs": [],
   "source": [
    "X1 = np.concatenate([X[:int(len(X)/2),:],Y[:int(len(Y)/2),:],Z[:int(len(Z)/2),:]], axis=0)\n",
    "lab1 = np.array(  [1 for _ in range(int(len(X)/2))] \n",
    "                + [2 for _ in range(int(len(Y)/2))] \n",
    "                + [3 for _ in range(int(len(Z)/2))])\n",
    "X2 = np.concatenate([X[int(len(X)/2):,:],Z[int(len(Z)/2):,:],Y[int(len(Y)/2):,:]], axis=0)\n",
    "lab2 = np.array(  [1 for _ in range(int(len(X)/2))] \n",
    "                + [3 for _ in range(int(len(Z)/2))] \n",
    "                + [2 for _ in range(int(len(Y)/2))])"
   ]
  },
  {
   "cell_type": "code",
   "execution_count": null,
   "metadata": {},
   "outputs": [],
   "source": [
    "print(lab1.shape, X1.shape, lab2.shape, X2.shape)"
   ]
  },
  {
   "cell_type": "markdown",
   "metadata": {},
   "source": [
    "Compute matching."
   ]
  },
  {
   "cell_type": "code",
   "execution_count": null,
   "metadata": {},
   "outputs": [],
   "source": [
    "bp={\"mode\": \"WS\", \"metric\": \"euclidean\", \"epsilon\": .1, \"tol\": 1e-9, \"max_iter\": 1000}"
   ]
  },
  {
   "cell_type": "code",
   "execution_count": null,
   "metadata": {},
   "outputs": [],
   "source": [
    "bp={\"mode\": \"GWS\", \"metric\": \"euclidean\", \"epsilon\": .1, \"tol\": 1e-9, \"max_iter\": 1000}"
   ]
  },
  {
   "cell_type": "code",
   "execution_count": null,
   "metadata": {},
   "outputs": [],
   "source": [
    "bp={\"mode\": \"MXS\", \"metric\": [\"euclidean\",\"euclidean\"], \"alpha\": .5, \"epsilon\": .1, \"tol\": 1e-9, \"max_iter\": 1000}"
   ]
  },
  {
   "cell_type": "code",
   "execution_count": null,
   "metadata": {},
   "outputs": [],
   "source": [
    "bp={\"mode\": \"GWNC\", \"metric\": \"euclidean\", \"num_iter\": 2, \"method\": \"L-BFGS-B\"}"
   ]
  },
  {
   "cell_type": "code",
   "execution_count": null,
   "metadata": {},
   "outputs": [],
   "source": [
    "import matlab.engine\n",
    "eng = matlab.engine.start_matlab()"
   ]
  },
  {
   "cell_type": "code",
   "execution_count": null,
   "metadata": {},
   "outputs": [],
   "source": [
    "bp={\"mode\": \"GWC_sdpnal\", \"metric\": \"euclidean\", \"eng\": eng, \"use_birkhoff\": False}"
   ]
  },
  {
   "cell_type": "code",
   "execution_count": null,
   "metadata": {},
   "outputs": [],
   "source": [
    "bp={\"mode\": \"GWC_cplex\", \"metric\": \"euclidean\", \"eng\": eng, \"maxtime\": 10}"
   ]
  },
  {
   "cell_type": "code",
   "execution_count": null,
   "metadata": {},
   "outputs": [],
   "source": [
    "start = time.time()\n",
    "gamma, mapping = MREC(X1=X1, X2=X2, q_method=\"RandomChoice\", threshold=10, n_points=30, \n",
    "                      backend_params=bp, return_gamma=True)\n",
    "end = time.time()\n",
    "quality = 0\n",
    "for i in range(len(mapping)):\n",
    "    labs, labt = lab1[i], lab2[mapping[i]]\n",
    "    if labs == labt:\n",
    "        quality += 1\n",
    "quality /= len(mapping)\n",
    "distortion = distortion_score(X1[::100], X2[::100], gamma[::100,:][:,::100], mode=3)\n",
    "print(quality, distortion, end-start)"
   ]
  },
  {
   "cell_type": "markdown",
   "metadata": {},
   "source": [
    "Plot matching."
   ]
  },
  {
   "cell_type": "code",
   "execution_count": null,
   "metadata": {},
   "outputs": [],
   "source": [
    "mapped_X = len(X2) * np.dot(gamma, X2)"
   ]
  },
  {
   "cell_type": "code",
   "execution_count": null,
   "metadata": {},
   "outputs": [],
   "source": [
    "%matplotlib notebook\n",
    "\n",
    "plt.figure()\n",
    "labname = {1: \"Group 1\", 2: \"Group 2\", 3: \"Group 3\"}\n",
    "clrmap = cm.get_cmap(\"rainbow\")\n",
    "ML, mL = max(lab1), min(lab1)\n",
    "for i in np.unique(lab1):\n",
    "    I1, I2 = np.argwhere(lab1==i)[::10,0], np.argwhere(lab2==i)[::10,0]\n",
    "    plt.scatter(X1[I1,0], X1[I1,1], c=clrmap((i-mL)/(ML-mL)), marker=\".\", s=30, alpha=.9, label=labname[i])\n",
    "    plt.scatter(X2[I2,0], X2[I2,1], c=clrmap((i-mL)/(ML-mL)), marker=\"+\", s=30, alpha=.9)\n",
    "    plt.scatter(mapped_X[I1,0], mapped_X[I1,1], c=clrmap((i-mL)/(ML-mL)), marker=\"*\", s=30, alpha=.9)\n",
    "    for j in I1:\n",
    "        plt.plot([X1[j,0], mapped_X[j,0]], [X1[j,1], mapped_X[j,1]], c=\"black\", linewidth=.1)  \n",
    "plt.legend()"
   ]
  },
  {
   "cell_type": "code",
   "execution_count": null,
   "metadata": {},
   "outputs": [],
   "source": []
  }
 ],
 "metadata": {
  "kernelspec": {
   "display_name": "Python 3",
   "language": "python",
   "name": "python3"
  },
  "language_info": {
   "codemirror_mode": {
    "name": "ipython",
    "version": 3
   },
   "file_extension": ".py",
   "mimetype": "text/x-python",
   "name": "python",
   "nbconvert_exporter": "python",
   "pygments_lexer": "ipython3",
   "version": "3.6.8"
  },
  "toc": {
   "base_numbering": 1,
   "nav_menu": {},
   "number_sections": true,
   "sideBar": true,
   "skip_h1_title": false,
   "title_cell": "Table of Contents",
   "title_sidebar": "Contents",
   "toc_cell": false,
   "toc_position": {},
   "toc_section_display": true,
   "toc_window_display": false
  }
 },
 "nbformat": 4,
 "nbformat_minor": 2
}
